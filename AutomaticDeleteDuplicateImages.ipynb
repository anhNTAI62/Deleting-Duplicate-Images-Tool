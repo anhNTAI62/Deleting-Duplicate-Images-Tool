{
  "nbformat": 4,
  "nbformat_minor": 0,
  "metadata": {
    "colab": {
      "name": "AutomaticDeleteDuplicateImages.ipynb",
      "provenance": [],
      "collapsed_sections": []
    },
    "kernelspec": {
      "name": "python3",
      "display_name": "Python 3"
    },
    "language_info": {
      "name": "python"
    }
  },
  "cells": [
    {
      "cell_type": "code",
      "execution_count": null,
      "metadata": {
        "id": "okScugqRg_BW"
      },
      "outputs": [],
      "source": [
        "import numpy as np\n",
        "import matplotlib.pyplot as plt\n",
        "%matplotlib inline\n",
        "\n",
        "import cv2\n",
        "import os\n",
        "import time\n",
        "from hashlib import md5"
      ]
    },
    {
      "cell_type": "code",
      "source": [
        "Directory = \"/content\"\n",
        "os.chdir(Directory)\n",
        "os.getcwd()\n",
        "!mkdir UploadFolder\n",
        "!mkdir CleanedImages"
      ],
      "metadata": {
        "id": "qMgkxhvkVxQp",
        "colab": {
          "base_uri": "https://localhost:8080/"
        },
        "outputId": "c565d2d1-9eac-4733-d2c0-47a489c5d832"
      },
      "execution_count": null,
      "outputs": [
        {
          "output_type": "stream",
          "name": "stdout",
          "text": [
            "mkdir: cannot create directory ‘UploadFolder’: File exists\n",
            "mkdir: cannot create directory ‘CleanedImages’: File exists\n"
          ]
        }
      ]
    },
    {
      "cell_type": "code",
      "source": [
        "image_dir = \"/content/UploadFolder\"\n",
        "os.chdir(image_dir)\n",
        "print(len(os.listdir()))"
      ],
      "metadata": {
        "colab": {
          "base_uri": "https://localhost:8080/"
        },
        "id": "RcFkPuGGlMwd",
        "outputId": "a0d4c87c-a48b-4f86-b925-e11e76f5710c"
      },
      "execution_count": null,
      "outputs": [
        {
          "output_type": "stream",
          "name": "stdout",
          "text": [
            "173\n"
          ]
        }
      ]
    },
    {
      "cell_type": "code",
      "source": [
        "count = 1\n",
        "for ảnh in os.listdir(\"/content/UploadFolder\"):\n",
        "    if ảnh[0] != \".\" and ( \".\" in ảnh):\n",
        "      img = cv2.imread(\"/content/UploadFolder/\" + ảnh)\n",
        "      if img is None:\n",
        "        pass\n",
        "      else:\n",
        "        path = \"/content/CleanedImages\"\n",
        "        cv2.imwrite(os.path.join(path, '{}.jpg'.format(count)), img)\n",
        "        count += 1"
      ],
      "metadata": {
        "id": "DG-_8PM7knOF"
      },
      "execution_count": null,
      "outputs": []
    },
    {
      "cell_type": "code",
      "source": [
        "image_dir = \"/content/CleanedImages\"\n",
        "os.chdir(image_dir)\n",
        "image_files = os.listdir()\n",
        "print(len(image_files))"
      ],
      "metadata": {
        "colab": {
          "base_uri": "https://localhost:8080/"
        },
        "outputId": "ba6065c8-c065-46ea-e8f0-2d61ef9a1dfb",
        "id": "uFxkXsWKmLS_"
      },
      "execution_count": null,
      "outputs": [
        {
          "output_type": "stream",
          "name": "stdout",
          "text": [
            "173\n"
          ]
        }
      ]
    },
    {
      "cell_type": "code",
      "execution_count": null,
      "metadata": {
        "id": "A5U4oW6TYrWq"
      },
      "outputs": [],
      "source": [
        "def filter_images(images):\n",
        "    image_list = []\n",
        "    for image in images:\n",
        "        try:\n",
        "            assert cv2.imread(image).shape[2] == 3\n",
        "            image_list.append(image)\n",
        "        except  AssertionError as e:\n",
        "            print(e)\n",
        "    return image_list"
      ]
    },
    {
      "cell_type": "code",
      "execution_count": null,
      "metadata": {
        "id": "OujpZRUpZPq8"
      },
      "outputs": [],
      "source": [
        "#First turn the image into a gray scale image\n",
        "def img_gray(image):\n",
        "    image = cv2.imread(image)\n",
        "    return np.average(image, weights=[0.299, 0.587, 0.114], axis=2)"
      ]
    },
    {
      "cell_type": "code",
      "execution_count": null,
      "metadata": {
        "id": "uquXn9eMZS8o"
      },
      "outputs": [],
      "source": [
        "#resize image and flatten\n",
        "def resize(image, height=30, width=30):\n",
        "    row_res = cv2.resize(image,(height, width), interpolation = cv2.INTER_AREA).flatten()\n",
        "    col_res = cv2.resize(image,(height, width), interpolation = cv2.INTER_AREA).flatten('F')\n",
        "    return row_res, col_res"
      ]
    },
    {
      "cell_type": "code",
      "execution_count": null,
      "metadata": {
        "id": "gUGfEqgDv6PJ"
      },
      "outputs": [],
      "source": [
        "import scipy.spatial\n",
        "def hamming_distance(image, image2):\n",
        "    score =scipy.spatial.distance.hamming(image, image2)\n",
        "    return score"
      ]
    },
    {
      "cell_type": "code",
      "execution_count": null,
      "metadata": {
        "id": "4jGPtUP-gakV"
      },
      "outputs": [],
      "source": [
        "#gradient direction based on intensity \n",
        "\n",
        "def intensity_diff(row_res, col_res):\n",
        "    difference_row = np.diff(row_res)\n",
        "    difference_col = np.diff(col_res)\n",
        "    difference_row = difference_row > 0\n",
        "    difference_col = difference_col > 0\n",
        "    return np.vstack((difference_row, difference_col)).flatten()\n",
        "    #return difference_row\n",
        "    #return np.vstack((difference_row, difference_col)) #str method"
      ]
    },
    {
      "cell_type": "code",
      "execution_count": null,
      "metadata": {
        "id": "h6z67sF6ouu3"
      },
      "outputs": [],
      "source": [
        "def difference_score(image, height = 30, width = 30):\n",
        "    gray = img_gray(image)\n",
        "    row_res, col_res = resize(gray, height, width)\n",
        "    difference = intensity_diff(row_res, col_res)\n",
        "    \n",
        "    return difference"
      ]
    },
    {
      "cell_type": "code",
      "execution_count": null,
      "metadata": {
        "id": "9oGHWE8MxVw-"
      },
      "outputs": [],
      "source": [
        "def difference_score_dict(image_list):\n",
        "    ds_dict = {}\n",
        "    for image in image_list:\n",
        "        ds = difference_score(image)\n",
        "        if image not in ds_dict:\n",
        "            ds_dict[image] = ds\n",
        "    return  ds_dict"
      ]
    },
    {
      "cell_type": "code",
      "execution_count": null,
      "metadata": {
        "id": "xat4dUETxXwW"
      },
      "outputs": [],
      "source": [
        "image_files = filter_images(image_files)\n",
        "ds_dict = difference_score_dict(image_files)"
      ]
    },
    {
      "cell_type": "code",
      "execution_count": null,
      "metadata": {
        "id": "i8Glrth-xjtS"
      },
      "outputs": [],
      "source": [
        "import itertools\n",
        "duplicates = []\n",
        "for k1,k2 in itertools.combinations(ds_dict, 2):\n",
        "    x =  hamming_distance(ds_dict[k1], ds_dict[k2])\n",
        "    if hamming_distance(ds_dict[k1], ds_dict[k2]) < .10: \n",
        "        duplicates.append((k1,k2))\n",
        "  \n"
      ]
    },
    {
      "cell_type": "code",
      "source": [
        "type(duplicates[0])"
      ],
      "metadata": {
        "colab": {
          "base_uri": "https://localhost:8080/"
        },
        "id": "tsySLJfthuuW",
        "outputId": "cf7e7899-d074-4c20-be27-08dd5644ff61"
      },
      "execution_count": null,
      "outputs": [
        {
          "output_type": "execute_result",
          "data": {
            "text/plain": [
              "tuple"
            ]
          },
          "metadata": {},
          "execution_count": 17
        }
      ]
    },
    {
      "cell_type": "code",
      "source": [
        "for file_names in duplicates:\n",
        "    try:\n",
        "    \n",
        "        plt.subplot(121),plt.imshow(cv2.imread(file_names[0]))\n",
        "        plt.title('Duplicate'), plt.xticks([]), plt.yticks([])\n",
        "\n",
        "        plt.subplot(122),plt.imshow(cv2.imread(file_names[1]))\n",
        "        plt.title('Original'), plt.xticks([]), plt.yticks([])\n",
        "        plt.show()\n",
        "    \n",
        "    except OSError as e:\n",
        "        continue"
      ],
      "metadata": {
        "colab": {
          "base_uri": "https://localhost:8080/",
          "height": 136
        },
        "id": "ykJMmlGYz97U",
        "outputId": "a9ab83e1-c50b-4d9f-a7a6-73495eb3d01b"
      },
      "execution_count": null,
      "outputs": [
        {
          "output_type": "display_data",
          "data": {
            "text/plain": [
              "<Figure size 432x288 with 2 Axes>"
            ],
            "image/png": "[encoded data removed]"
          },
          "metadata": {}
        }
      ]
    },
    {
      "cell_type": "markdown",
      "source": [
        ""
      ],
      "metadata": {
        "id": "kdz-Sj_80OsT"
      }
    },
    {
      "cell_type": "code",
      "execution_count": null,
      "metadata": {
        "id": "nR2hmqvf4BWu"
      },
      "outputs": [],
      "source": [
        "Directory = \"/content\"\n",
        "os.chdir(Directory)\n",
        "!mkdir DeletedPhoto"
      ]
    },
    {
      "cell_type": "code",
      "source": [
        "Directory = \"/content/CleanedImages\"\n",
        "os.chdir(Directory)"
      ],
      "metadata": {
        "id": "ko07k-SfOlU_"
      },
      "execution_count": null,
      "outputs": []
    },
    {
      "cell_type": "code",
      "source": [
        "os.getcwd()"
      ],
      "metadata": {
        "colab": {
          "base_uri": "https://localhost:8080/",
          "height": 36
        },
        "id": "yeZT74ZjOVOY",
        "outputId": "150f788a-8316-4d1a-dd0d-cb4b83a8ff58"
      },
      "execution_count": null,
      "outputs": [
        {
          "output_type": "execute_result",
          "data": {
            "text/plain": [
              "'/content/CleanedImages'"
            ],
            "application/vnd.google.colaboratory.intrinsic+json": {
              "type": "string"
            }
          },
          "metadata": {},
          "execution_count": 21
        }
      ]
    },
    {
      "cell_type": "code",
      "execution_count": null,
      "metadata": {
        "id": "dhnaTAiN4mbw"
      },
      "outputs": [],
      "source": [
        "path = \"/content/CleanedImages/\"\n",
        "for i in duplicates:\n",
        "    a = i[0]\n",
        "    img = cv2.imread(path + a)\n",
        "    cv2.imwrite(os.path.join( \"/content/DeletedPhoto/\", a), img)"
      ]
    },
    {
      "cell_type": "code",
      "source": [
        "deletedlist = []\n",
        "for index in duplicates:\n",
        "    if index[0] in deletedlist:\n",
        "       print(index[0])\n",
        "       continue\n",
        "    else:\n",
        "        deletedlist.append(index[0])\n",
        "        os.remove(index[0])\n"
      ],
      "metadata": {
        "id": "PKgN7PS9z95g"
      },
      "execution_count": null,
      "outputs": []
    },
    {
      "cell_type": "code",
      "source": [
        "!zip -r /content/DownloadFile.zip /content/CleanedImages\n",
        "!zip -r /content/DeletedPhoto.zip /content/DeletedPhoto"
      ],
      "metadata": {
        "colab": {
          "base_uri": "https://localhost:8080/"
        },
        "id": "_nNyFZ4pFMNB",
        "outputId": "ee9f74f1-1e1f-449c-cf79-ce4d8cd69b3f"
      },
      "execution_count": null,
      "outputs": [
        {
          "output_type": "stream",
          "name": "stdout",
          "text": [
            "  adding: content/CleanedImages/ (stored 0%)\n",
            "  adding: content/CleanedImages/146.jpg (deflated 7%)\n",
            "  adding: content/CleanedImages/147.jpg (deflated 9%)\n",
            "  adding: content/CleanedImages/92.jpg (deflated 7%)\n",
            "  adding: content/CleanedImages/56.jpg (deflated 7%)\n",
            "  adding: content/CleanedImages/153.jpg (deflated 8%)\n",
            "  adding: content/CleanedImages/123.jpg (deflated 4%)\n",
            "  adding: content/CleanedImages/23.jpg (deflated 6%)\n",
            "  adding: content/CleanedImages/64.jpg (deflated 8%)\n",
            "  adding: content/CleanedImages/39.jpg (deflated 8%)\n",
            "  adding: content/CleanedImages/99.jpg (deflated 4%)\n",
            "  adding: content/CleanedImages/7.jpg (deflated 7%)\n",
            "  adding: content/CleanedImages/98.jpg (deflated 7%)\n",
            "  adding: content/CleanedImages/77.jpg (deflated 7%)\n",
            "  adding: content/CleanedImages/95.jpg (deflated 8%)\n",
            "  adding: content/CleanedImages/19.jpg (deflated 5%)\n",
            "  adding: content/CleanedImages/30.jpg (deflated 7%)\n",
            "  adding: content/CleanedImages/65.jpg (deflated 8%)\n",
            "  adding: content/CleanedImages/54.jpg (deflated 8%)\n",
            "  adding: content/CleanedImages/124.jpg (deflated 7%)\n",
            "  adding: content/CleanedImages/79.jpg (deflated 6%)\n",
            "  adding: content/CleanedImages/160.jpg (deflated 7%)\n",
            "  adding: content/CleanedImages/83.jpg (deflated 7%)\n",
            "  adding: content/CleanedImages/94.jpg (deflated 8%)\n",
            "  adding: content/CleanedImages/108.jpg (deflated 7%)\n",
            "  adding: content/CleanedImages/135.jpg (deflated 6%)\n",
            "  adding: content/CleanedImages/42.jpg (deflated 8%)\n",
            "  adding: content/CleanedImages/168.jpg (deflated 8%)\n",
            "  adding: content/CleanedImages/158.jpg (deflated 7%)\n",
            "  adding: content/CleanedImages/3.jpg (deflated 7%)\n",
            "  adding: content/CleanedImages/63.jpg (deflated 7%)\n",
            "  adding: content/CleanedImages/151.jpg (deflated 6%)\n",
            "  adding: content/CleanedImages/110.jpg (deflated 9%)\n",
            "  adding: content/CleanedImages/45.jpg (deflated 7%)\n",
            "  adding: content/CleanedImages/86.jpg (deflated 6%)\n",
            "  adding: content/CleanedImages/162.jpg (deflated 7%)\n",
            "  adding: content/CleanedImages/103.jpg (deflated 8%)\n",
            "  adding: content/CleanedImages/134.jpg (deflated 7%)\n",
            "  adding: content/CleanedImages/24.jpg (deflated 7%)\n",
            "  adding: content/CleanedImages/15.jpg (deflated 7%)\n",
            "  adding: content/CleanedImages/12.jpg (deflated 8%)\n",
            "  adding: content/CleanedImages/119.jpg (deflated 8%)\n",
            "  adding: content/CleanedImages/120.jpg (deflated 7%)\n",
            "  adding: content/CleanedImages/22.jpg (deflated 6%)\n",
            "  adding: content/CleanedImages/118.jpg (deflated 7%)\n",
            "  adding: content/CleanedImages/36.jpg (deflated 6%)\n",
            "  adding: content/CleanedImages/51.jpg (deflated 6%)\n",
            "  adding: content/CleanedImages/47.jpg (deflated 8%)\n",
            "  adding: content/CleanedImages/29.jpg (deflated 7%)\n",
            "  adding: content/CleanedImages/80.jpg (deflated 7%)\n",
            "  adding: content/CleanedImages/173.jpg (deflated 8%)\n",
            "  adding: content/CleanedImages/10.jpg (deflated 6%)\n",
            "  adding: content/CleanedImages/154.jpg (deflated 6%)\n",
            "  adding: content/CleanedImages/132.jpg (deflated 7%)\n",
            "  adding: content/CleanedImages/89.jpg (deflated 3%)\n",
            "  adding: content/CleanedImages/58.jpg (deflated 8%)\n",
            "  adding: content/CleanedImages/53.jpg (deflated 9%)\n",
            "  adding: content/CleanedImages/49.jpg (deflated 6%)\n",
            "  adding: content/CleanedImages/155.jpg (deflated 6%)\n",
            "  adding: content/CleanedImages/60.jpg (deflated 5%)\n",
            "  adding: content/CleanedImages/62.jpg (deflated 7%)\n",
            "  adding: content/CleanedImages/161.jpg (deflated 8%)\n",
            "  adding: content/CleanedImages/114.jpg (deflated 9%)\n",
            "  adding: content/CleanedImages/82.jpg (deflated 6%)\n",
            "  adding: content/CleanedImages/27.jpg (deflated 9%)\n",
            "  adding: content/CleanedImages/109.jpg (deflated 9%)\n",
            "  adding: content/CleanedImages/131.jpg (deflated 7%)\n",
            "  adding: content/CleanedImages/68.jpg (deflated 6%)\n",
            "  adding: content/CleanedImages/17.jpg (deflated 6%)\n",
            "  adding: content/CleanedImages/5.jpg (deflated 7%)\n",
            "  adding: content/CleanedImages/117.jpg (deflated 6%)\n",
            "  adding: content/CleanedImages/111.jpg (deflated 7%)\n",
            "  adding: content/CleanedImages/2.jpg (deflated 7%)\n",
            "  adding: content/CleanedImages/163.jpg (deflated 4%)\n",
            "  adding: content/CleanedImages/136.jpg (deflated 7%)\n",
            "  adding: content/CleanedImages/150.jpg (deflated 7%)\n",
            "  adding: content/CleanedImages/104.jpg (deflated 8%)\n",
            "  adding: content/CleanedImages/121.jpg (deflated 7%)\n",
            "  adding: content/CleanedImages/90.jpg (deflated 8%)\n",
            "  adding: content/CleanedImages/169.jpg (deflated 8%)\n",
            "  adding: content/CleanedImages/106.jpg (deflated 6%)\n",
            "  adding: content/CleanedImages/32.jpg (deflated 7%)\n",
            "  adding: content/CleanedImages/76.jpg (deflated 7%)\n",
            "  adding: content/CleanedImages/33.jpg (deflated 8%)\n",
            "  adding: content/CleanedImages/35.jpg (deflated 9%)\n",
            "  adding: content/CleanedImages/116.jpg (deflated 7%)\n",
            "  adding: content/CleanedImages/69.jpg (deflated 7%)\n",
            "  adding: content/CleanedImages/34.jpg (deflated 5%)\n",
            "  adding: content/CleanedImages/85.jpg (deflated 6%)\n",
            "  adding: content/CleanedImages/44.jpg (deflated 6%)\n",
            "  adding: content/CleanedImages/156.jpg (deflated 7%)\n",
            "  adding: content/CleanedImages/40.jpg (deflated 6%)\n",
            "  adding: content/CleanedImages/70.jpg (deflated 4%)\n",
            "  adding: content/CleanedImages/52.jpg (deflated 8%)\n",
            "  adding: content/CleanedImages/78.jpg (deflated 6%)\n",
            "  adding: content/CleanedImages/37.jpg (deflated 8%)\n",
            "  adding: content/CleanedImages/88.jpg (deflated 8%)\n",
            "  adding: content/CleanedImages/138.jpg (deflated 7%)\n",
            "  adding: content/CleanedImages/112.jpg (deflated 9%)\n",
            "  adding: content/CleanedImages/102.jpg (deflated 6%)\n",
            "  adding: content/CleanedImages/6.jpg (deflated 6%)\n",
            "  adding: content/CleanedImages/105.jpg (deflated 7%)\n",
            "  adding: content/CleanedImages/144.jpg (deflated 8%)\n",
            "  adding: content/CleanedImages/97.jpg (deflated 6%)\n",
            "  adding: content/CleanedImages/159.jpg (deflated 6%)\n",
            "  adding: content/CleanedImages/16.jpg (deflated 3%)\n",
            "  adding: content/CleanedImages/171.jpg (deflated 5%)\n",
            "  adding: content/CleanedImages/145.jpg (deflated 6%)\n",
            "  adding: content/CleanedImages/8.jpg (deflated 8%)\n",
            "  adding: content/CleanedImages/20.jpg (deflated 9%)\n",
            "  adding: content/CleanedImages/127.jpg (deflated 8%)\n",
            "  adding: content/CleanedImages/113.jpg (deflated 7%)\n",
            "  adding: content/CleanedImages/84.jpg (deflated 7%)\n",
            "  adding: content/CleanedImages/164.jpg (deflated 7%)\n",
            "  adding: content/CleanedImages/142.jpg (deflated 6%)\n",
            "  adding: content/CleanedImages/74.jpg (deflated 7%)\n",
            "  adding: content/CleanedImages/4.jpg (deflated 6%)\n",
            "  adding: content/CleanedImages/125.jpg (deflated 7%)\n",
            "  adding: content/CleanedImages/172.jpg (deflated 8%)\n",
            "  adding: content/CleanedImages/165.jpg (deflated 6%)\n",
            "  adding: content/CleanedImages/72.jpg (deflated 6%)\n",
            "  adding: content/CleanedImages/59.jpg (deflated 7%)\n",
            "  adding: content/CleanedImages/122.jpg (deflated 6%)\n",
            "  adding: content/CleanedImages/9.jpg (deflated 6%)\n",
            "  adding: content/CleanedImages/73.jpg (deflated 6%)\n",
            "  adding: content/CleanedImages/170.jpg (deflated 6%)\n",
            "  adding: content/CleanedImages/28.jpg (deflated 7%)\n",
            "  adding: content/CleanedImages/101.jpg (deflated 8%)\n",
            "  adding: content/CleanedImages/81.jpg (deflated 7%)\n",
            "  adding: content/CleanedImages/48.jpg (deflated 7%)\n",
            "  adding: content/CleanedImages/115.jpg (deflated 7%)\n",
            "  adding: content/CleanedImages/67.jpg (deflated 7%)\n",
            "  adding: content/CleanedImages/50.jpg (deflated 7%)\n",
            "  adding: content/CleanedImages/141.jpg (deflated 8%)\n",
            "  adding: content/CleanedImages/128.jpg (deflated 10%)\n",
            "  adding: content/CleanedImages/130.jpg (deflated 7%)\n",
            "  adding: content/CleanedImages/43.jpg (deflated 6%)\n",
            "  adding: content/CleanedImages/26.jpg (deflated 7%)\n",
            "  adding: content/CleanedImages/140.jpg (deflated 6%)\n",
            "  adding: content/CleanedImages/11.jpg (deflated 7%)\n",
            "  adding: content/CleanedImages/31.jpg (deflated 7%)\n",
            "  adding: content/CleanedImages/46.jpg (deflated 8%)\n",
            "  adding: content/CleanedImages/137.jpg (deflated 5%)\n",
            "  adding: content/CleanedImages/14.jpg (deflated 7%)\n",
            "  adding: content/CleanedImages/166.jpg (deflated 8%)\n",
            "  adding: content/CleanedImages/21.jpg (deflated 6%)\n",
            "  adding: content/CleanedImages/129.jpg (deflated 8%)\n",
            "  adding: content/CleanedImages/41.jpg (deflated 6%)\n",
            "  adding: content/CleanedImages/126.jpg (deflated 7%)\n",
            "  adding: content/CleanedImages/61.jpg (deflated 8%)\n",
            "  adding: content/CleanedImages/87.jpg (deflated 6%)\n",
            "  adding: content/CleanedImages/107.jpg (deflated 6%)\n",
            "  adding: content/CleanedImages/148.jpg (deflated 4%)\n",
            "  adding: content/CleanedImages/93.jpg (deflated 8%)\n",
            "  adding: content/CleanedImages/1.jpg (deflated 8%)\n",
            "  adding: content/CleanedImages/57.jpg (deflated 5%)\n",
            "  adding: content/CleanedImages/152.jpg (deflated 7%)\n",
            "  adding: content/CleanedImages/25.jpg (deflated 6%)\n",
            "  adding: content/CleanedImages/75.jpg (deflated 7%)\n",
            "  adding: content/CleanedImages/100.jpg (deflated 6%)\n",
            "  adding: content/CleanedImages/157.jpg (deflated 7%)\n",
            "  adding: content/CleanedImages/66.jpg (deflated 6%)\n",
            "  adding: content/CleanedImages/18.jpg (deflated 7%)\n",
            "  adding: content/CleanedImages/139.jpg (deflated 9%)\n",
            "  adding: content/CleanedImages/55.jpg (deflated 8%)\n",
            "  adding: content/CleanedImages/96.jpg (deflated 6%)\n",
            "  adding: content/CleanedImages/38.jpg (deflated 6%)\n",
            "  adding: content/CleanedImages/13.jpg (deflated 7%)\n",
            "  adding: content/CleanedImages/91.jpg (deflated 7%)\n",
            "  adding: content/CleanedImages/133.jpg (deflated 7%)\n",
            "  adding: content/CleanedImages/143.jpg (deflated 7%)\n",
            "  adding: content/CleanedImages/149.jpg (deflated 6%)\n",
            "  adding: content/CleanedImages/71.jpg (deflated 6%)\n",
            "  adding: content/DeletedPhoto/ (stored 0%)\n",
            "  adding: content/DeletedPhoto/167.jpg (deflated 7%)\n"
          ]
        }
      ]
    },
    {
      "cell_type": "code",
      "source": [
        "from google.colab import files\n",
        "files.download(\"/content/DeletedPhoto.zip\")"
      ],
      "metadata": {
        "id": "GUC-u7y2z93x",
        "colab": {
          "base_uri": "https://localhost:8080/",
          "height": 17
        },
        "outputId": "01a7f9a5-e301-49ec-a211-83c66bd380c4"
      },
      "execution_count": null,
      "outputs": [
        {
          "output_type": "display_data",
          "data": {
            "text/plain": [
              "<IPython.core.display.Javascript object>"
            ],
            "application/javascript": [
              "\n",
              "    async function download(id, filename, size) {\n",
              "      if (!google.colab.kernel.accessAllowed) {\n",
              "        return;\n",
              "      }\n",
              "      const div = document.createElement('div');\n",
              "      const label = document.createElement('label');\n",
              "      label.textContent = `Downloading \"${filename}\": `;\n",
              "      div.appendChild(label);\n",
              "      const progress = document.createElement('progress');\n",
              "      progress.max = size;\n",
              "      div.appendChild(progress);\n",
              "      document.body.appendChild(div);\n",
              "\n",
              "      const buffers = [];\n",
              "      let downloaded = 0;\n",
              "\n",
              "      const channel = await google.colab.kernel.comms.open(id);\n",
              "      // Send a message to notify the kernel that we're ready.\n",
              "      channel.send({})\n",
              "\n",
              "      for await (const message of channel.messages) {\n",
              "        // Send a message to notify the kernel that we're ready.\n",
              "        channel.send({})\n",
              "        if (message.buffers) {\n",
              "          for (const buffer of message.buffers) {\n",
              "            buffers.push(buffer);\n",
              "            downloaded += buffer.byteLength;\n",
              "            progress.value = downloaded;\n",
              "          }\n",
              "        }\n",
              "      }\n",
              "      const blob = new Blob(buffers, {type: 'application/binary'});\n",
              "      const a = document.createElement('a');\n",
              "      a.href = window.URL.createObjectURL(blob);\n",
              "      a.download = filename;\n",
              "      div.appendChild(a);\n",
              "      a.click();\n",
              "      div.remove();\n",
              "    }\n",
              "  "
            ]
          },
          "metadata": {}
        },
        {
          "output_type": "display_data",
          "data": {
            "text/plain": [
              "<IPython.core.display.Javascript object>"
            ],
            "application/javascript": [
              "download(\"download_826d2991-7b7e-4f20-8fc4-7b96f2547b58\", \"DeletedPhoto.zip\", 11738)"
            ]
          },
          "metadata": {}
        }
      ]
    },
    {
      "cell_type": "code",
      "source": [
        "from google.colab import files\n",
        "files.download(\"/content/DownloadFile.zip\")"
      ],
      "metadata": {
        "colab": {
          "base_uri": "https://localhost:8080/",
          "height": 17
        },
        "outputId": "9bc7bf6f-4f70-4855-fdfb-ddacbdefeeb6",
        "id": "khblXEbAj5b_"
      },
      "execution_count": null,
      "outputs": [
        {
          "output_type": "display_data",
          "data": {
            "text/plain": [
              "<IPython.core.display.Javascript object>"
            ],
            "application/javascript": [
              "\n",
              "    async function download(id, filename, size) {\n",
              "      if (!google.colab.kernel.accessAllowed) {\n",
              "        return;\n",
              "      }\n",
              "      const div = document.createElement('div');\n",
              "      const label = document.createElement('label');\n",
              "      label.textContent = `Downloading \"${filename}\": `;\n",
              "      div.appendChild(label);\n",
              "      const progress = document.createElement('progress');\n",
              "      progress.max = size;\n",
              "      div.appendChild(progress);\n",
              "      document.body.appendChild(div);\n",
              "\n",
              "      const buffers = [];\n",
              "      let downloaded = 0;\n",
              "\n",
              "      const channel = await google.colab.kernel.comms.open(id);\n",
              "      // Send a message to notify the kernel that we're ready.\n",
              "      channel.send({})\n",
              "\n",
              "      for await (const message of channel.messages) {\n",
              "        // Send a message to notify the kernel that we're ready.\n",
              "        channel.send({})\n",
              "        if (message.buffers) {\n",
              "          for (const buffer of message.buffers) {\n",
              "            buffers.push(buffer);\n",
              "            downloaded += buffer.byteLength;\n",
              "            progress.value = downloaded;\n",
              "          }\n",
              "        }\n",
              "      }\n",
              "      const blob = new Blob(buffers, {type: 'application/binary'});\n",
              "      const a = document.createElement('a');\n",
              "      a.href = window.URL.createObjectURL(blob);\n",
              "      a.download = filename;\n",
              "      div.appendChild(a);\n",
              "      a.click();\n",
              "      div.remove();\n",
              "    }\n",
              "  "
            ]
          },
          "metadata": {}
        },
        {
          "output_type": "display_data",
          "data": {
            "text/plain": [
              "<IPython.core.display.Javascript object>"
            ],
            "application/javascript": [
              "download(\"download_5f6ffd52-e344-4795-9674-ef7ca6fb645c\", \"DownloadFile.zip\", 3031187)"
            ]
          },
          "metadata": {}
        }
      ]
    },
    {
      "cell_type": "code",
      "source": [
        ""
      ],
      "metadata": {
        "id": "_SOlGnjJz9z_"
      },
      "execution_count": null,
      "outputs": []
    },
    {
      "cell_type": "code",
      "source": [
        ""
      ],
      "metadata": {
        "id": "IrS88AT-z9yO"
      },
      "execution_count": null,
      "outputs": []
    },
    {
      "cell_type": "code",
      "source": [
        ""
      ],
      "metadata": {
        "id": "jMn7ava3z9wf"
      },
      "execution_count": null,
      "outputs": []
    },
    {
      "cell_type": "code",
      "source": [
        ""
      ],
      "metadata": {
        "id": "QXFSFE-0z9ut"
      },
      "execution_count": null,
      "outputs": []
    },
    {
      "cell_type": "code",
      "source": [
        ""
      ],
      "metadata": {
        "id": "u-gmCLCfz9s-"
      },
      "execution_count": null,
      "outputs": []
    },
    {
      "cell_type": "code",
      "source": [
        ""
      ],
      "metadata": {
        "id": "VZ7PnXAMz9q7"
      },
      "execution_count": null,
      "outputs": []
    }
  ]
}